{
 "cells": [
  {
   "cell_type": "markdown",
   "metadata": {},
   "source": [
    "## Import Libraries and Utility Functions"
   ]
  },
  {
   "cell_type": "markdown",
   "metadata": {},
   "source": [
    "#### Import Libraries"
   ]
  },
  {
   "cell_type": "code",
   "execution_count": 2,
   "metadata": {},
   "outputs": [
    {
     "name": "stdout",
     "output_type": "stream",
     "text": [
      "Jupyter environment detected. Enabling Open3D WebVisualizer.\n",
      "[Open3D INFO] WebRTC GUI backend enabled.\n",
      "[Open3D INFO] WebRTCWindowSystem: HTTP handshake server disabled.\n"
     ]
    }
   ],
   "source": [
    "from camera.zed_ros.zed_ros import ZedRos\n",
    "import cv2\n",
    "import numpy as np\n",
    "import glob\n",
    "import re\n",
    "import open3d as o3d\n",
    "import plotly.graph_objs as go\n",
    "import plotly.express as px\n",
    "import os"
   ]
  },
  {
   "cell_type": "markdown",
   "metadata": {},
   "source": [
    "#### Plotting points"
   ]
  },
  {
   "cell_type": "code",
   "execution_count": 3,
   "metadata": {},
   "outputs": [],
   "source": [
    "def plot_multi_np(plist):\n",
    "    \"\"\"\n",
    "    Plots multiple point clouds in the same plot using plotly\n",
    "    Assumes points are in meters coordinates.\n",
    "    \n",
    "    Args: \n",
    "        plist: list of np arrays of shape (N, 3)\n",
    "    \"\"\"\n",
    "    colors = [\n",
    "        '#1f77b4',  # muted blue\n",
    "        '#ff7f0e',  # safety orange\n",
    "        '#2ca02c',  # cooked asparagus green\n",
    "        '#d62728',  # brick red\n",
    "        '#9467bd',  # muted purple\n",
    "    ]\n",
    "    skip = 1\n",
    "    go_data = []\n",
    "    for i in range(len(plist)):\n",
    "        p_dp = plist[i]\n",
    "        plot = go.Scatter3d(x=p_dp[::skip,0], y=p_dp[::skip,1], z=p_dp[::skip,2], \n",
    "                     mode='markers', marker=dict(size=2, color=colors[i],\n",
    "                     symbol='circle'))\n",
    "        go_data.append(plot)\n",
    " \n",
    "    layout = go.Layout(\n",
    "        scene=dict(\n",
    "            aspectmode='data',\n",
    "        ),\n",
    "        height=1200,\n",
    "        width=1200,\n",
    "    )\n",
    "    fig = go.Figure(data=go_data, layout=layout)\n",
    "    \n",
    "    colors = ['red', 'green', 'blue']  # X, Y, Z axis colors\n",
    "    \n",
    "    fig = go.Figure()\n",
    "    \n",
    "    T = []\n",
    "    T.append(np.eye(4))\n",
    "\n",
    "    # for tf in T:\n",
    "    #     origin = tf[:3, 3]\n",
    "    #     axes = tf[:3, :3]\n",
    "\n",
    "    #     for i in range(3):\n",
    "    #         axis_end = origin + 0.3*axes[:, i]\n",
    "    #         fig.add_trace(go.Scatter3d(\n",
    "    #             x=[origin[0], axis_end[0]],\n",
    "    #             y=[origin[1], axis_end[1]],\n",
    "    #             z=[origin[2], axis_end[2]],\n",
    "    #             mode='lines',\n",
    "    #             line=dict(color=colors[i], width=4),\n",
    "    #             name='Axis ' + str(i+1)\n",
    "    #         ))\n",
    "\n",
    "    for plot in go_data:\n",
    "        fig.add_trace(plot)\n",
    "    \n",
    "    # add axis lines and camera view\n",
    "    fig.update_layout(scene=dict(\n",
    "        xaxis=dict(title='X'),\n",
    "        yaxis=dict(title='Y'),\n",
    "        zaxis=dict(title='Z'),\n",
    "        camera = dict(\n",
    "                      eye=dict(x=-1.30, y=0, z=-.25),\n",
    "                      center=dict(x=0., y=0, z=-0.25),\n",
    "                      up=dict(x=0, y=0, z=1),\n",
    "                     )\n",
    "        ),\n",
    "        height=800,\n",
    "        width=1200,\n",
    "    )    \n",
    "    \n",
    "    fig.show()"
   ]
  },
  {
   "cell_type": "markdown",
   "metadata": {},
   "source": [
    "#### Transform points using a TF matrix"
   ]
  },
  {
   "cell_type": "code",
   "execution_count": 4,
   "metadata": {},
   "outputs": [],
   "source": [
    "def transform_pcd(pcd, tf=None, tf_filepath=None):\n",
    "    \"\"\"\n",
    "    Transforms a point cloud using a transformation matrix\n",
    "    \n",
    "    Args:\n",
    "        pcd: open3d.geometry.PointCloud\n",
    "        tf: 4x4 numpy array\n",
    "        tf_filepath: str, path to a .npy file containing a 4x4 transformation matrix\n",
    "        \n",
    "    Returns:\n",
    "        open3d.geometry.PointCloud\n",
    "    \"\"\"\n",
    "    if tf_filepath is not None:\n",
    "        tf = np.load(tf_filepath)\n",
    "        \n",
    "    if tf is not None:\n",
    "        pcd.transform(tf)\n",
    "        \n",
    "    return pcd"
   ]
  },
  {
   "cell_type": "markdown",
   "metadata": {},
   "source": [
    "#### Crop Regions"
   ]
  },
  {
   "cell_type": "code",
   "execution_count": 5,
   "metadata": {},
   "outputs": [],
   "source": [
    "# table boundaries\n",
    "table_boundaries = {\n",
    "    'min': np.array([-0.5, -2, -1]),\n",
    "    'max': np.array([1.0, 2, 5])\n",
    "}\n",
    "\n",
    "# board boundaries\n",
    "board_boundaries = {\n",
    "    'min': np.array([0.0, -2, 0.15]),\n",
    "    'max': np.array([0.5, -0.0, 0.3])\n",
    "}\n",
    "\n",
    "# gripper boundaries\n",
    "gripper_boundaries = {\n",
    "    'min': np.array([0.2, -0.5, 0.3]),\n",
    "    'max': np.array([0.35, -0.05, .5])\n",
    "}\n",
    "\n",
    "ih_camera_focus = {\n",
    "    'min': np.array([-0.053, -0.028, 0.0]),\n",
    "    'max': np.array([0.053, 0.025, 0.3])\n",
    "}\n",
    "\n",
    "gripper_focus = {\n",
    "    'min': np.array([-0.2, -0.06, 0.0]),\n",
    "    'max': np.array([0.2, 0.06, 0.20]),\n",
    "\n",
    "}\n",
    "\n",
    "boundaries = {\n",
    "    'table': table_boundaries,\n",
    "    'board': board_boundaries,\n",
    "    'gripper': gripper_boundaries,\n",
    "    'ih_camera_focus': ih_camera_focus,\n",
    "    'gripper_focus': gripper_focus\n",
    "}"
   ]
  },
  {
   "cell_type": "code",
   "execution_count": 6,
   "metadata": {},
   "outputs": [],
   "source": [
    "def crop_points(points, boundary: str):\n",
    "    \"\"\"\n",
    "    Crops a point cloud based on a boundary\n",
    "    Assmes points are in meters coordinates.\n",
    "    \n",
    "    Args:\n",
    "        points:     np array of shape (N, 3)\n",
    "        boundary:   str, key in boundaries dict. \n",
    "                    Predefined boundaries are 'table', 'board', 'gripper'\n",
    "                    For custom boundaries, add to `boundaries` dict\n",
    "        \n",
    "    Returns:\n",
    "        np array of shape (M, 3)\n",
    "    \"\"\"\n",
    "    if boundary in boundaries:\n",
    "        world_boundaries = boundaries[boundary]\n",
    "    else:\n",
    "        print('Bounds not found')\n",
    "        return\n",
    "\n",
    "    #deep copy points\n",
    "    tmp_points = np.copy(points)\n",
    "    \n",
    "    tmp_points[np.isinf(tmp_points)] = np.nan\n",
    "    tmp_points[np.where(tmp_points[:, 0] < world_boundaries['min'][0])] = np.nan\n",
    "    tmp_points[np.where(tmp_points[:, 1] < world_boundaries['min'][1])] = np.nan\n",
    "    tmp_points[np.where(tmp_points[:, 2] < world_boundaries['min'][2])] = np.nan\n",
    "    tmp_points[np.where(tmp_points[:, 0] > world_boundaries['max'][0])] = np.nan\n",
    "    tmp_points[np.where(tmp_points[:, 1] > world_boundaries['max'][1])] = np.nan\n",
    "    tmp_points[np.where(tmp_points[:, 2] > world_boundaries['max'][2])] = np.nan\n",
    "    tmp_points = tmp_points[np.where(~np.isnan(tmp_points).any(axis=1))]\n",
    "    \n",
    "    return tmp_points"
   ]
  },
  {
   "cell_type": "markdown",
   "metadata": {},
   "source": [
    "## Visualize Pointcloud(s)"
   ]
  },
  {
   "cell_type": "code",
   "execution_count": 51,
   "metadata": {},
   "outputs": [],
   "source": [
    "def plot_results(time):\n",
    "    action = np.load(f'/home/mfi/repos/rtc_vision_toolbox/data/demonstrations/07-24-wp/execute_data/{time}/action_points.npy')\n",
    "    anchor = np.load(f'/home/mfi/repos/rtc_vision_toolbox/data/demonstrations/07-24-wp/execute_data/{time}/anchor_points.npy')\n",
    "    predicted = np.load(f'/home/mfi/repos/rtc_vision_toolbox/data/demonstrations/07-24-wp/execute_data/{time}/pred_place_points.npy')\n",
    "    plot_multi_np([action, anchor, predicted])"
   ]
  },
  {
   "cell_type": "code",
   "execution_count": null,
   "metadata": {},
   "outputs": [],
   "source": [
    "npz = np.load(\"/home/mfi/repos/rtc_vision_toolbox/data/demonstrations/07-28-dsub/learn_data/test/4_teleport_obj_points.npz\")\n",
    "\n",
    "print(npz.files)\n",
    "\n",
    "\n",
    "action = npz['clouds'][np.where(npz['classes'] == 0)]\n",
    "anchor = npz['clouds'][np.where(npz['classes'] == 1)]\n",
    "\n",
    "print(action.shape)\n",
    "print(anchor.shape)\n",
    "\n",
    "plot_multi_np([action, anchor])"
   ]
  }
 ],
 "metadata": {
  "kernelspec": {
   "display_name": "venv",
   "language": "python",
   "name": "python3"
  },
  "language_info": {
   "codemirror_mode": {
    "name": "ipython",
    "version": 3
   },
   "file_extension": ".py",
   "mimetype": "text/x-python",
   "name": "python",
   "nbconvert_exporter": "python",
   "pygments_lexer": "ipython3",
   "version": "3.10.12"
  }
 },
 "nbformat": 4,
 "nbformat_minor": 2
}
